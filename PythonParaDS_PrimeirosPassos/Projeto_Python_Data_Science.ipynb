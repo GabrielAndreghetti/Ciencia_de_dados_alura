{
 "cells": [
  {
   "cell_type": "markdown",
   "metadata": {
    "id": "lQx6Mmv0OJyT"
   },
   "source": [
    "# Python para Data Science\n",
    "\n",
    "Notebook para o curso de Python para Data Science publicado na plataforma da [Alura](https://www.alura.com.br/)\n",
    "\n"
   ]
  },
  {
   "cell_type": "markdown",
   "metadata": {},
   "source": [
    "# A maioria dos exercícios está no final do notebook em \"Exercícios finais\""
   ]
  },
  {
   "cell_type": "markdown",
   "metadata": {
    "id": "UqhzuBhBHsps"
   },
   "source": [
    "## Tipos de variáveis\n",
    "\n",
    "Cada variável contém uma classe especifica quanto ao tipo de objeto que ela está se referenciando. Essas classes vão ser diferentes a partir do tipo de dado que nós atribuimos a uma variável.\n",
    "\n",
    "Para saber a classe de cada elemento usamos a função [`type()`](https://docs.python.org/3/library/functions.html#type)"
   ]
  },
  {
   "cell_type": "code",
   "execution_count": 9,
   "metadata": {
    "id": "-tb-XRcq5v9W"
   },
   "outputs": [
    {
     "data": {
      "text/plain": [
       "int"
      ]
     },
     "execution_count": 9,
     "metadata": {},
     "output_type": "execute_result"
    }
   ],
   "source": [
    "numero = 10\n",
    "type(numero)"
   ]
  },
  {
   "cell_type": "code",
   "execution_count": 10,
   "metadata": {
    "id": "5ncn48tw5vw2"
   },
   "outputs": [
    {
     "data": {
      "text/plain": [
       "str"
      ]
     },
     "execution_count": 10,
     "metadata": {},
     "output_type": "execute_result"
    }
   ],
   "source": [
    "string = 'palavra'\n",
    "type(string)"
   ]
  },
  {
   "cell_type": "code",
   "execution_count": 11,
   "metadata": {
    "id": "PURhkDrw5vpB"
   },
   "outputs": [
    {
     "data": {
      "text/plain": [
       "bool"
      ]
     },
     "execution_count": 11,
     "metadata": {},
     "output_type": "execute_result"
    }
   ],
   "source": [
    "logico = False\n",
    "type(logico)"
   ]
  },
  {
   "cell_type": "markdown",
   "metadata": {
    "id": "KFq_8Sxf-OG0"
   },
   "source": [
    "## Variáveis numéricas\n",
    "\n",
    "Entre os tipos de dados numéricos vamos nos focar no tipo `inteiro` e `float`."
   ]
  },
  {
   "cell_type": "markdown",
   "metadata": {
    "id": "8_HYUbkVYdQY"
   },
   "source": [
    "Temos uma tabela de informação de empregos quanto ao cargo, quantidade de pessoas empregadas e o salário correspondente:\n",
    "\n",
    "|Cargo | Quantidade | Salário|\n",
    "|---|---|---|\n",
    "|Segurança | 5 | 3000 |\n",
    "|Docente | 16| 6000|\n",
    "|Diretoria| 1 |12500|\n",
    "\n",
    "Precisamos trabalhar com esses dados fornecendo:\n",
    "\n",
    "- A quantidade total de empregados;\n",
    "- A diferença entre o salário mais baixo e mais alto; e\n",
    "- A média ponderada da faixa salarial da escola."
   ]
  },
  {
   "cell_type": "code",
   "execution_count": 12,
   "metadata": {
    "id": "xJIq5MRRZAlj"
   },
   "outputs": [],
   "source": [
    "q_seguranca = 5\n",
    "s_seguranca = 3000\n",
    "\n",
    "q_docente = 16\n",
    "s_docente = 6000\n",
    "\n",
    "q_diretoria = 1\n",
    "s_diretoria = 12500"
   ]
  },
  {
   "cell_type": "code",
   "execution_count": 13,
   "metadata": {
    "id": "pIgt-k6T5WpB"
   },
   "outputs": [
    {
     "data": {
      "text/plain": [
       "22"
      ]
     },
     "execution_count": 13,
     "metadata": {},
     "output_type": "execute_result"
    }
   ],
   "source": [
    "total_empregados = q_seguranca + q_diretoria + q_docente\n",
    "total_empregados"
   ]
  },
  {
   "cell_type": "code",
   "execution_count": 14,
   "metadata": {
    "id": "bL9uGHvp5We5"
   },
   "outputs": [
    {
     "data": {
      "text/plain": [
       "9500"
      ]
     },
     "execution_count": 14,
     "metadata": {},
     "output_type": "execute_result"
    }
   ],
   "source": [
    "dif_salario = s_diretoria - s_seguranca\n",
    "dif_salario"
   ]
  },
  {
   "cell_type": "code",
   "execution_count": 17,
   "metadata": {
    "id": "GpTS_c8_5WX_"
   },
   "outputs": [
    {
     "data": {
      "text/plain": [
       "5613.636363636364"
      ]
     },
     "execution_count": 17,
     "metadata": {},
     "output_type": "execute_result"
    }
   ],
   "source": [
    "media_pond_salario = ((q_seguranca * s_seguranca) + (q_docente * s_docente) + (q_diretoria * s_diretoria)) / (total_empregados)\n",
    "media_pond_salario"
   ]
  },
  {
   "cell_type": "markdown",
   "metadata": {
    "id": "yQy7b0ZWoD-P"
   },
   "source": [
    "## Strings"
   ]
  },
  {
   "cell_type": "markdown",
   "metadata": {
    "id": "vlo2-DXusv3s"
   },
   "source": [
    "Strings são caracterizada por ter um conjunto de caracteres formando um texto.\n",
    "\n",
    "Strigs podem ser criadas ao atribuirmos a uma variável um dado que esteja entre aspas simples (`'`) ou aspas duplas (`\"`)"
   ]
  },
  {
   "cell_type": "markdown",
   "metadata": {
    "id": "2e9UD_CCxqz_"
   },
   "source": [
    "As variáveis textuais contém vários métodos que nos ajudam a formatar strings. Métódos podem ser executados ao definirmos um objeto seguindo a seguinte estrutura:\n",
    "\n",
    "```\n",
    "objeto.metodo()\n",
    "```\n",
    "\n",
    "Existem métodos que não necessitam dos `()`, é preciso verificar a documentação de cada caso."
   ]
  },
  {
   "cell_type": "markdown",
   "metadata": {
    "id": "p6aPmMGP4tf9"
   },
   "source": [
    "---\n",
    "**Situação:**\n",
    "\n",
    "Recebemos uma variável com o nome de uma professora da escola para inserimos no cadastro. No entanto, precisamos tratar esse texto antes de inserirmos no sistema"
   ]
  },
  {
   "cell_type": "code",
   "execution_count": 19,
   "metadata": {
    "id": "4tkS8Iit1Ccg"
   },
   "outputs": [],
   "source": [
    "texto = '  Geovana Alessandra dias Sanyos '"
   ]
  },
  {
   "cell_type": "markdown",
   "metadata": {
    "id": "Dg2ZXSZOGzjC"
   },
   "source": [
    "O objetivo final é que o nome esteja da seguinte forma:\n",
    "\n",
    "```\n",
    "'GEOVANA ALESSANDRA DIAS SANTOS'\n",
    "```"
   ]
  },
  {
   "cell_type": "markdown",
   "metadata": {
    "id": "iVTAD8q702eN"
   },
   "source": [
    "### [`str.upper()` ](https://docs.python.org/3/library/stdtypes.html#str.upper)\n",
    "Converte uma string para maiúsculas"
   ]
  },
  {
   "cell_type": "code",
   "execution_count": 20,
   "metadata": {
    "id": "sWMt1iWW5LdN"
   },
   "outputs": [
    {
     "data": {
      "text/plain": [
       "'  GEOVANA ALESSANDRA DIAS SANYOS '"
      ]
     },
     "execution_count": 20,
     "metadata": {},
     "output_type": "execute_result"
    }
   ],
   "source": [
    "texto.upper()"
   ]
  },
  {
   "cell_type": "markdown",
   "metadata": {
    "id": "hbDSBtMV1TpG"
   },
   "source": [
    "### [`str.lower()`](https://docs.python.org/3/library/stdtypes.html#str.lower)\n",
    "Método converte uma string para minúsculas."
   ]
  },
  {
   "cell_type": "code",
   "execution_count": 21,
   "metadata": {
    "id": "ypSOC5WR5MTi"
   },
   "outputs": [
    {
     "data": {
      "text/plain": [
       "'  geovana alessandra dias sanyos '"
      ]
     },
     "execution_count": 21,
     "metadata": {},
     "output_type": "execute_result"
    }
   ],
   "source": [
    "texto.lower()"
   ]
  },
  {
   "cell_type": "markdown",
   "metadata": {
    "id": "kz47eWM11gii"
   },
   "source": [
    "### [`str.strip()`](https://docs.python.org/3/library/stdtypes.html#str.strip)\n",
    "Método remove os espaços em branco do início e do fim de uma string."
   ]
  },
  {
   "cell_type": "code",
   "execution_count": 22,
   "metadata": {
    "id": "Xys25o1N5NKD"
   },
   "outputs": [
    {
     "data": {
      "text/plain": [
       "'Geovana Alessandra dias Sanyos'"
      ]
     },
     "execution_count": 22,
     "metadata": {},
     "output_type": "execute_result"
    }
   ],
   "source": [
    "texto.strip()"
   ]
  },
  {
   "cell_type": "markdown",
   "metadata": {
    "id": "m6notiyS1SCV"
   },
   "source": [
    "### [`str.replace(antigo, novo)`](https://docs.python.org/3/library/stdtypes.html#str.replace)\n",
    "\n",
    "Método substitui todas as ocorrências do texto \"antigo\" na string por \"novo\""
   ]
  },
  {
   "cell_type": "code",
   "execution_count": 23,
   "metadata": {
    "id": "oY2mU2Id5OcO"
   },
   "outputs": [
    {
     "data": {
      "text/plain": [
       "'  Geovana Alessandra dias Santos '"
      ]
     },
     "execution_count": 23,
     "metadata": {},
     "output_type": "execute_result"
    }
   ],
   "source": [
    "texto.replace('y','t')##"
   ]
  },
  {
   "cell_type": "markdown",
   "metadata": {
    "id": "zukvEjhG2Rcn"
   },
   "source": [
    "### Observações\n",
    "\n",
    "1. Os métodos retornam uma **tranformação**, não a executam no texto!\n",
    "\n",
    "2. Além disso, podemos acumular a execução de métodos."
   ]
  },
  {
   "cell_type": "code",
   "execution_count": 24,
   "metadata": {
    "id": "Q6O5y20u5PQk"
   },
   "outputs": [
    {
     "data": {
      "text/plain": [
       "'  Geovana Alessandra dias Sanyos '"
      ]
     },
     "execution_count": 24,
     "metadata": {},
     "output_type": "execute_result"
    }
   ],
   "source": [
    "texto"
   ]
  },
  {
   "cell_type": "markdown",
   "metadata": {
    "id": "1KbwfVut2h6I"
   },
   "source": [
    "Para que seja executada a transformação nós podemos atribuir às saídas das transformações à variável"
   ]
  },
  {
   "cell_type": "code",
   "execution_count": 26,
   "metadata": {
    "id": "W6DiHv2H5Tq-"
   },
   "outputs": [
    {
     "data": {
      "text/plain": [
       "'GEOVANA ALESSANDRA DIAS SANTOS'"
      ]
     },
     "execution_count": 26,
     "metadata": {},
     "output_type": "execute_result"
    }
   ],
   "source": [
    "texto = texto.strip().replace('y', 't').upper()\n",
    "texto"
   ]
  },
  {
   "cell_type": "markdown",
   "metadata": {
    "id": "0h9Fh5G9kHCa"
   },
   "source": [
    "## Coletando dados\n",
    "\n",
    "Em algumas aplicações precisamos coletar valores da pessoa usuária do nosso projeto. Em python conseguimos coletar dados de usuário através do comando [`input()`](https://docs.python.org/3/library/functions.html#input).\n",
    "\n",
    "Para fazer essa coleta podemos atribuir essa função à uma variável."
   ]
  },
  {
   "cell_type": "code",
   "execution_count": 31,
   "metadata": {
    "id": "iEJyxhIj41id"
   },
   "outputs": [],
   "source": [
    "nome = input('Escreva seu nome: ')"
   ]
  },
  {
   "cell_type": "code",
   "execution_count": 32,
   "metadata": {
    "id": "MoMXzZkC41Ze"
   },
   "outputs": [
    {
     "data": {
      "text/plain": [
       "'Gabriel'"
      ]
     },
     "execution_count": 32,
     "metadata": {},
     "output_type": "execute_result"
    }
   ],
   "source": [
    "nome"
   ]
  },
  {
   "cell_type": "markdown",
   "metadata": {
    "id": "7z7hcLCk_aCY"
   },
   "source": [
    "O retorno desse comando sempre será uma *string*. Isso quer dizer que mesmo que façamos uma coleta de algo que deva ser numérico, ele será uma string. \n",
    "\n",
    "Então, será preciso **converter o resultado caso não seja desejável obter uma string**."
   ]
  },
  {
   "cell_type": "markdown",
   "metadata": {
    "id": "TOlegATj1Jfp"
   },
   "source": [
    "Existem funções para conversão de valores:\n",
    "\n",
    "- Inteiros: [`int(dado_para_conversao)`](https://docs.python.org/3/library/functions.html#int)\n",
    "- Float: [`float(dado_para_conversao)`](https://docs.python.org/3/library/functions.html#float)\n",
    "- String: [`str(dado_para_conversao)`](https://docs.python.org/3/library/functions.html#func-str)\n",
    "- Booleano: [`bool(dado_para_conversao)`](https://docs.python.org/3/library/functions.html#bool)"
   ]
  },
  {
   "cell_type": "code",
   "execution_count": 33,
   "metadata": {
    "id": "MQRu7y9646S9"
   },
   "outputs": [],
   "source": [
    "ano_entrada = input('Escreva o ano de ingresso do(a) estudante: ')"
   ]
  },
  {
   "cell_type": "code",
   "execution_count": 34,
   "metadata": {
    "id": "FwezgXQA48VF"
   },
   "outputs": [
    {
     "data": {
      "text/plain": [
       "str"
      ]
     },
     "execution_count": 34,
     "metadata": {},
     "output_type": "execute_result"
    }
   ],
   "source": [
    "type(ano_entrada)"
   ]
  },
  {
   "cell_type": "code",
   "execution_count": 35,
   "metadata": {
    "id": "bbRqzmOJ49Q1"
   },
   "outputs": [],
   "source": [
    "ano_entrada = int(input('Escreva o ano de ingresso do(a) estudante: '))"
   ]
  },
  {
   "cell_type": "code",
   "execution_count": 36,
   "metadata": {
    "id": "nu5xycbG4-X1"
   },
   "outputs": [
    {
     "data": {
      "text/plain": [
       "int"
      ]
     },
     "execution_count": 36,
     "metadata": {},
     "output_type": "execute_result"
    }
   ],
   "source": [
    "type(ano_entrada)"
   ]
  },
  {
   "cell_type": "markdown",
   "metadata": {
    "id": "yNI2-XTbB3aS"
   },
   "source": [
    "Buscaremos apresentar melhor agora o resultado que obtivemos da transformação. Nós conseguimos formatar e apresentar o nosso resultado misturando strings com valores não textuais.\n",
    "\n",
    "Para fazer isso usamos a estrutura de formatação `f` com strings."
   ]
  },
  {
   "cell_type": "code",
   "execution_count": 37,
   "metadata": {
    "id": "b1eYnEX-4wXz"
   },
   "outputs": [
    {
     "name": "stdout",
     "output_type": "stream",
     "text": [
      "Ano de entrada 2023 - Nota do teste de ingresso 8.0\n"
     ]
    }
   ],
   "source": [
    "nota_entrada = float(input('Digite a nota do teste de ingresso: '))\n",
    "print(f'Ano de entrada {ano_entrada} - Nota do teste de ingresso {nota_entrada}')"
   ]
  },
  {
   "cell_type": "code",
   "execution_count": 39,
   "metadata": {},
   "outputs": [
    {
     "name": "stdout",
     "output_type": "stream",
     "text": [
      "Olá Gabriel, você tem 22 e mede 1.72 metros\n"
     ]
    }
   ],
   "source": [
    "#Ex01\n",
    "nome = input('Digite seu nome: ')\n",
    "idade = int(input('Digite sua idade: '))\n",
    "altura = float(input('Digite sua altura(em metros): '))\n",
    "print(f'Olá {nome}, você tem {idade} e mede {altura} metros')"
   ]
  },
  {
   "cell_type": "code",
   "execution_count": null,
   "metadata": {},
   "outputs": [],
   "source": [
    "#Ex01 melhorado\n",
    "lista_dados = []\n",
    "\n",
    "num_registros = int(input('Quantos registros quer guardar?'))\n",
    "while (num_registros):\n",
    "    dados = {\n",
    "        'NOME':(input('Digite seu nome: ')), \n",
    "        'IDADE':int(input('Digite sua idade: ')), \n",
    "        'ALTURA':float(input('Digite sua altura(em metros): '))\n",
    "    }\n",
    "    lista_dados.append(dados)\n",
    "    num_registros -= 1\n",
    "\n",
    "visu_regis = input('Qual registro deseja visualizar?(Digite os índices separados por vírgula):')\n",
    "indices = [int(i) for i in visu_regis.split(',')]\n",
    "\n",
    "for i in indices:\n",
    "    if i<len(lista_dados):\n",
    "        dados = lista_dados[i]\n",
    "        print('Olá {}, você tem {} anos e {} metros.'.format(dados.get('NOME'), dados.get('IDADE'), dados.get('ALTURA')))\n",
    "    else:\n",
    "        print(f'Registro {i} não existe.')"
   ]
  },
  {
   "cell_type": "code",
   "execution_count": 48,
   "metadata": {},
   "outputs": [
    {
     "name": "stdout",
     "output_type": "stream",
     "text": [
      "Digite qual operação você deseja realizar:\n",
      "1.Soma \n",
      "2.Multiplicação \n",
      "3.Subtração \n",
      "4.Divisão\n",
      "[5, 2]\n"
     ]
    }
   ],
   "source": [
    "#Ex02\n",
    "list_nums = []\n",
    "\n",
    "print('Digite qual operação você deseja realizar:\\n1.Soma \\n2.Multiplicação \\n3.Subtração \\n4.Divisão')\n",
    "operation = int(input())\n",
    "\n",
    "if operation in [1,2,3]:\n",
    "    num_operation = int(input(\"Com quantos números deseja efetuar a operação?\"))\n",
    "\n",
    "    for i in range(1, num_operation+1):\n",
    "        num = int(input(f\"Digite o {i}º número:\"))\n",
    "        list_nums.append(num)\n",
    "else:\n",
    "    num = int(input(f\"Digite o divisor:\"))\n",
    "    list_nums.append(num)\n",
    "    num = int(input(f\"Digite o dividendo:\"))\n",
    "    list_nums.append(num)\n",
    "\n",
    "#print(list_nums)\n",
    "#nums = [int(i) for i in (input('Digite dois valores para serem somados(separados por vírgula)')).split(',')]\n",
    "#print(nums)"
   ]
  },
  {
   "cell_type": "markdown",
   "metadata": {
    "id": "NwRaiHHHhhyl"
   },
   "source": [
    "# Estruturas condicionais"
   ]
  },
  {
   "cell_type": "markdown",
   "metadata": {
    "id": "qXZqg9aYEhAh"
   },
   "source": [
    "## `IF` e `ELSE`\n",
    "\n",
    "O `if` e `else` são duas estruturas condicionais. O `if` executará o bloco de comando caso a condição colocada for **verdadeira**. O `else` é um caso em que a condicional de `if` seja **falsa**."
   ]
  },
  {
   "cell_type": "markdown",
   "metadata": {
    "id": "EIhlqHXd2Gil"
   },
   "source": [
    "O `if` é uma palavra-chave em Python que significa \"se\". Ele é usado para formar uma estrutura condicional, que permite que você verifique se uma determinada condição é verdadeira ou falsa e, em seguida, execute um bloco de código específico dependendo do resultado da verificação. A sintaxe para usar o `if` é:\n",
    "\n",
    "\n",
    "\n",
    "```\n",
    "if condição:\n",
    "    # faça algo\n",
    "```\n",
    "\n"
   ]
  },
  {
   "cell_type": "markdown",
   "metadata": {
    "id": "27RW2v_sIKct"
   },
   "source": [
    "Já o `else` em Python é usada em conjunto com a palavra-chave `if` para formar uma estrutura condicional. A sintaxe para usar o `else` é:\n",
    "\n",
    "```\n",
    "if condição:\n",
    "  # código caso seja verdade\n",
    "else:\n",
    "  # código caso seja falso\n",
    "```\n",
    "\n",
    "O `else` é executado quando a condição verificada pelo `if` é avaliada como `False`."
   ]
  },
  {
   "cell_type": "markdown",
   "metadata": {
    "id": "BqORg85XX-Nl"
   },
   "source": [
    "---\n",
    "**Situação:**\n",
    "\n",
    "Receberemos a média de estudantes e precisamos de um algoritmo que execute a análise e decida se esse estudante está **Aprovado** ou Reprovado, mostrando uma mensagem do resultado. Para ser aprovado, a média precisa ser igual ou superior à 6.0."
   ]
  },
  {
   "cell_type": "code",
   "execution_count": null,
   "metadata": {
    "id": "yaR8bt1P4iCv"
   },
   "outputs": [],
   "source": [
    "media = float(input('Digite a média: '))"
   ]
  },
  {
   "cell_type": "markdown",
   "metadata": {
    "id": "bD9O17HB6LUo"
   },
   "source": [
    "Agora a nossa instituição de ensino lançou uma nota oficial que pessoas que tenham média entre 4.0 e 6.0 podem fazer os cursos de **Recuperação** nas férias para poder recuperar a nota.\n",
    "\n",
    "Então podemos agora fazer um conjunto de `if`s para que possamos estruturar essa nova condição."
   ]
  },
  {
   "cell_type": "code",
   "execution_count": null,
   "metadata": {
    "id": "Rkde8bai4gvq"
   },
   "outputs": [],
   "source": [
    "media = float(input('Digite a média: '))"
   ]
  },
  {
   "cell_type": "markdown",
   "metadata": {
    "id": "D5e2mByjvycO"
   },
   "source": [
    "Notemos que em casos com 3 situações como esse precisamos definir bem nossas condições. Pois foi feita uma construção com `else` no final, ele irá considerar apenas a alguma condicional para ser o caso **falso** podendo resultar em duas (ou mais) execuções.\n",
    "\n",
    "Por exemplo:"
   ]
  },
  {
   "cell_type": "code",
   "execution_count": null,
   "metadata": {
    "id": "tKvjzq414fAN"
   },
   "outputs": [],
   "source": [
    "media = float(input('Digite a média: '))"
   ]
  },
  {
   "cell_type": "markdown",
   "metadata": {
    "id": "04T5g-7h4zWx"
   },
   "source": [
    "## `ELIF`\n",
    "\n",
    "O `elif` é uma palavra-chave em Python que significa \"senão, se\" e pode ser considerado uma união do `else` com um `if`. Ela é usada em conjunto com a palavra-chave `if` para formar uma estrutura condicional encadeada.\n",
    "\n"
   ]
  },
  {
   "cell_type": "markdown",
   "metadata": {
    "id": "rNBHr5mm1Lm6"
   },
   "source": [
    "A sintaxe para usar o `elif` é:\n",
    "\n",
    "```\n",
    "if condição1:\n",
    "    # faça algo\n",
    "elif condição2:\n",
    "    # faça outra coisa\n",
    "elif condição3:\n",
    "    # faça mais alguma coisa\n",
    "else:\n",
    "    # faça algo diferente\n",
    "```\n",
    "\n",
    "O `elif` permite que você verifique várias condições de forma encadeada, economizando espaço em seu código. Se a primeira condição for avaliada como `False`, o interpretador Python avaliará a próxima condição no `elif`. Isso continuará até que uma condição seja avaliada como `True` ou até que o `else` seja atingido. Se nenhuma das condições forem avaliadas como `True`, a execução do código do `else` será iniciada."
   ]
  },
  {
   "cell_type": "markdown",
   "metadata": {
    "id": "MVoykFbB4bd4"
   },
   "source": [
    "Vamos usar o mesmo caso anterior:"
   ]
  },
  {
   "cell_type": "code",
   "execution_count": null,
   "metadata": {
    "id": "UJCHKoX54dc2"
   },
   "outputs": [],
   "source": [
    "media = float(input('Digite a média: '))"
   ]
  },
  {
   "cell_type": "markdown",
   "metadata": {
    "id": "Tf1wSOem6iwZ"
   },
   "source": [
    "## Operadores\n",
    "\n",
    "Durante a construção de comandos por vezes precisamos de uma elaboração maior de da expressão condicional, necessitando que alguns operadores lógicos estejam integrados."
   ]
  },
  {
   "cell_type": "markdown",
   "metadata": {
    "id": "GFIZnRWXGPWO"
   },
   "source": [
    "### `AND`, `OR`, `NOT`\n",
    "\n",
    "Os operadores lógicos `and`, `or` e `not` são usados para combinar expressões lógicas em Python. Eles são usados frequentemente em conjunto com o `if` para criar estruturas condicionais mais complexas.\n"
   ]
  },
  {
   "cell_type": "markdown",
   "metadata": {
    "id": "Z_dgAoHXJbzB"
   },
   "source": [
    "- `AND` é usado para verificar se duas condições são verdadeiras. A expressão lógica¹ `x and y` é avaliada como `True` apenas se **ambas as condições `x` e `y` forem verdadeiras**, e como `False` caso contrário.\n",
    "\n",
    "- `OR` é usado para verificar se pelo menos uma das condições é verdadeira. A expressão lógica `x or y` é avaliada como `True` **se pelo menos uma das condições `x` ou `y` for verdadeira**, e como `False` se ambas forem falsas.\n",
    "\n",
    "- `NOT` é usado para **negar uma condição**. A expressão lógica not x é avaliada como True se a condição x for falsa, e como False se a condição x for verdadeira.\n",
    "\n",
    "¹ Uma expressão lógica é uma declaração que pode ser avaliada como verdadeira ou falsa. Ela é composta por operandos lógicos² e operadores lógicos³, que são usados ​​para combinar várias expressões lógicas em uma única expressão.\n",
    "\n",
    "² Os operandos lógicos são os elementos que são comparados ou avaliados em uma expressão lógica. Eles são geralmente valores verdadeiros ou falsos, mas também podem ser expressões lógicas mais complexas. Em Python, os operandos lógicos são os valores `True` e `False`.\n",
    "\n",
    "³ Os operadores lógicos são os símbolos ou palavras-chave que são usados ​​para combinar várias expressões lógicas em uma única expressão. Em Python, os operadores lógicos são `and`, `or` e `not`, bem como as palavras-chave `if`, `elif` e `else`."
   ]
  },
  {
   "cell_type": "code",
   "execution_count": null,
   "metadata": {
    "id": "kL4QVdlZ4O43"
   },
   "outputs": [],
   "source": [
    "if :\n",
    "  print('expressão verdadeira')\n",
    "else:\n",
    "  print('expressão falsa')"
   ]
  },
  {
   "cell_type": "code",
   "execution_count": null,
   "metadata": {
    "id": "JmQYjvsz4Pw5"
   },
   "outputs": [],
   "source": [
    "if :\n",
    "  print('expressão verdadeira')\n",
    "else:\n",
    "  print('expressão falsa')"
   ]
  },
  {
   "cell_type": "code",
   "execution_count": null,
   "metadata": {
    "id": "WHfJ-ZLM4Q3k"
   },
   "outputs": [],
   "source": [
    "if :\n",
    "  print('expressão verdadeira')\n",
    "else:\n",
    "  print('expressão falsa')"
   ]
  },
  {
   "cell_type": "markdown",
   "metadata": {
    "id": "w7EXG1dhWtja"
   },
   "source": [
    "### `IN`\n",
    "\n",
    "É usado para verificar se um elemento está presente em uma lista, tupla ou outra variável de conjunto. A expressão `x in y` é avaliada como `True` se o elemento `x` estiver presente na variável de conjunto `y`, e como `False` caso contrário."
   ]
  },
  {
   "cell_type": "markdown",
   "metadata": {
    "id": "enJNp6JenQbq"
   },
   "source": [
    "Podemos verificar isso com variáveis de texto.\n",
    "\n",
    "---\n",
    "\n",
    "**Situação:**\n",
    "\n",
    "Na escola foi passada uma lista com nomes de estudantes que foram aprovados por média no semestre, mas é preciso verificar se alguns nomes estão nessa lista para verificar se os dados estão corretos.\n",
    "\n",
    "A lista distribuida pode ser observada abaixo:\n",
    "\n",
    "```\n",
    "lista = 'José da Silva, Maria Oliveira, Pedro Martins, Ana Souza, Carlos Rodrigues, Juliana Santos, Bruno Gomes, Beatriz Costa, Felipe Almeida, Mariana Fernandes, João Pinto, Luísa Nascimento, Gabriel Souza, Manuela Santos, Thiago Oliveira, Sofia Ferreira, Rafael Albuquerque, Isabella Gomes, Bruno Costa, Maria Martins, Rafaela Souza, Matheus Fernandes, Luísa Almeida, Beatriz Pinto, Mariana Rodrigues, Gabriel Nascimento, João Ferreira, Maria Albuquerque, Felipe Oliveira\n",
    "'\n",
    "```\n",
    "\n",
    "Os nomes que precisam ser verificados são os seguintes:\n",
    "\n",
    "```\n",
    "nome_1 = 'Mariana Rodrigues'\n",
    "nome_2 = 'Marcelo Nogueira'\n",
    "```"
   ]
  },
  {
   "cell_type": "code",
   "execution_count": null,
   "metadata": {
    "colab": {
     "base_uri": "https://localhost:8080/",
     "height": 87
    },
    "executionInfo": {
     "elapsed": 302,
     "status": "ok",
     "timestamp": 1674095467241,
     "user": {
      "displayName": "Mirla Borges",
      "userId": "16057667184099544912"
     },
     "user_tz": 180
    },
    "id": "kU25ABUQ5NBe",
    "outputId": "c4201042-3224-4a3b-b55c-62699854e672"
   },
   "outputs": [
    {
     "data": {
      "application/vnd.google.colaboratory.intrinsic+json": {
       "type": "string"
      },
      "text/plain": [
       "'José da Silva, Maria Oliveira, Pedro Martins, Ana Souza, Carlos Rodrigues, Juliana Santos, Bruno Gomes, Beatriz Costa, Felipe Almeida, Mariana Fernandes, João Pinto, Luísa Nascimento, Gabriel Souza, Manuela Santos, Thiago Oliveira, Sofia Ferreira, Rafael Albuquerque, Isabella Gomes, Bruno Costa, Maria Martins, Rafaela Souza, Matheus Fernandes, Luísa Almeida, Beatriz Pinto, Mariana Rodrigues, Gabriel Nascimento, João Ferreira, Maria Albuquerque, Felipe Oliveira'"
      ]
     },
     "execution_count": 45,
     "metadata": {},
     "output_type": "execute_result"
    }
   ],
   "source": [
    "lista = 'José da Silva, Maria Oliveira, Pedro Martins, Ana Souza, Carlos Rodrigues, Juliana Santos, Bruno Gomes, Beatriz Costa, Felipe Almeida, Mariana Fernandes, João Pinto, Luísa Nascimento, Gabriel Souza, Manuela Santos, Thiago Oliveira, Sofia Ferreira, Rafael Albuquerque, Isabella Gomes, Bruno Costa, Maria Martins, Rafaela Souza, Matheus Fernandes, Luísa Almeida, Beatriz Pinto, Mariana Rodrigues, Gabriel Nascimento, João Ferreira, Maria Albuquerque, Felipe Oliveira'\n",
    "lista"
   ]
  },
  {
   "cell_type": "code",
   "execution_count": null,
   "metadata": {
    "id": "GY82qLpivC6Y"
   },
   "outputs": [],
   "source": [
    "nome_1 = 'Mariana Rodrigues'\n",
    "nome_2 = 'Marcelo Nogueira'"
   ]
  },
  {
   "cell_type": "markdown",
   "metadata": {
    "id": "aL1vJPewvwvz"
   },
   "source": [
    "# Estruturas de repetição"
   ]
  },
  {
   "cell_type": "markdown",
   "metadata": {
    "id": "VcPfCa8d-84t"
   },
   "source": [
    "Quando temos que executar um mesmo bloco de comandos por várias vezes não é muito interessante fazer isso à mão.\n",
    "\n",
    "Imaginemos a situação de termos que coletar e imprimir a média de duas notas de **3 estudantes**:"
   ]
  },
  {
   "cell_type": "code",
   "execution_count": null,
   "metadata": {
    "id": "LzPyN4Ad3qwy"
   },
   "outputs": [],
   "source": [
    "nota_1 = float(input('Digite a 1° nota: '))\n",
    "nota_2 = float(input('Digite a 2° nota: '))\n",
    "\n",
    "print(f'Média: {(nota_1+nota_2)/2}')"
   ]
  },
  {
   "cell_type": "markdown",
   "metadata": {
    "id": "9puIuvUbFSFX"
   },
   "source": [
    "Agora imaginemos uma situação em que não são apenas 3 estudantes, mas sim 100 estudantes. Não seria interessante repetir o mesmo código por 100 vezes, mas sim **executar o mesmo código 100 vezes**.\n",
    "\n",
    "Essa repetição conseguimos construir com laços de repetição!"
   ]
  },
  {
   "cell_type": "markdown",
   "metadata": {
    "id": "uLO9-aE4-wx8"
   },
   "source": [
    "## `WHILE`"
   ]
  },
  {
   "cell_type": "markdown",
   "metadata": {
    "id": "rXZxDMiqHxm9"
   },
   "source": [
    "O laço `while` é uma estrutura de controle de repetição em Python que permite executar um bloco de código repetidamente enquanto uma determinada condição é verdadeira. Sua estrutura é:\n",
    "\n",
    "\n",
    "\n",
    "```\n",
    "while condição:\n",
    "    # bloco de código\n",
    "```\n",
    "\n",
    "\n"
   ]
  },
  {
   "cell_type": "markdown",
   "metadata": {
    "id": "WgAIaENMMfCP"
   },
   "source": [
    "## `FOR`"
   ]
  },
  {
   "cell_type": "markdown",
   "metadata": {
    "id": "HxrSZoRAMh-x"
   },
   "source": [
    "O laço `for` é um tipo de estrutura de controle de fluxo em Python que permite iterar sobre um conjunto de elementos. A sua estrutura é:\n",
    "\n",
    "\n",
    "\n",
    "```\n",
    "for elemento in conjunto:\n",
    "    # código a ser executado para cada elemento\n",
    "```\n",
    "\n",
    "O laço for itera sobre cada elemento do conjunto especificado e executa o bloco de código dentro do laço para cada elemento. Quando o laço chega ao final do conjunto, ele é interrompido e o programa continua a execução após o laço.\n",
    "\n"
   ]
  },
  {
   "cell_type": "markdown",
   "metadata": {
    "id": "6VgjyoQtPHBM"
   },
   "source": [
    "O conjunto pode ser gerado com a função [`range()`](https://docs.python.org/3/library/functions.html#func-range). Que é uma função capaz de gerar uma sequência de números inteiros. A estrutura dessa função é:\n",
    "\n",
    "```\n",
    "range(inicio, fim, passo)\n",
    "```\n",
    "\n",
    "Segundo a documentação, o `range()` gera uma sequência de números inteiros a partir do valor do parâmetro `inicio` até o valor do parâmetro `fim`, de acordo com o valor do parâmetro `passo`. Se `inicio` não for especificado, o valor padrão é 0. Se `passo` não for especificado, o valor padrão é 1.\n",
    "\n",
    "\n"
   ]
  },
  {
   "cell_type": "markdown",
   "metadata": {
    "id": "8noP8OJ0Vhux"
   },
   "source": [
    "# Estruturas de dados"
   ]
  },
  {
   "cell_type": "markdown",
   "metadata": {
    "id": "xpEUkefTu8fY"
   },
   "source": [
    "Um conjunto de elementos é uma coleção de itens, que são armazenados juntos de maneira organizada. Alguns exemplos de conjuntos de elementos em Python são listas, strings e dicionários."
   ]
  },
  {
   "cell_type": "markdown",
   "metadata": {
    "id": "THSg4KYLwxIb"
   },
   "source": [
    "## Listas"
   ]
  },
  {
   "cell_type": "markdown",
   "metadata": {
    "id": "dzpsiqrOyJcK"
   },
   "source": [
    "As listas podem armazenar uma coleção de itens em ordem. Eles são delimitados por colchetes `[]` e os itens são separados por vírgulas.\n",
    "\n",
    "Elas também podem armazenar qualquer tipo de item, incluindo números, strings, objetos e outras listas. Elas também podem armazenar itens de tipos de dados diferentes juntos em uma única lista."
   ]
  },
  {
   "cell_type": "markdown",
   "metadata": {
    "id": "qUz3sJNl6LgK"
   },
   "source": [
    "As listas são organizadas em Python porque **cada elemento da lista tem um índice que indica sua posição na lista**. Os índices começam em 0 e vão até o tamanho da lista menos 1."
   ]
  },
  {
   "cell_type": "markdown",
   "metadata": {
    "id": "rLf-Qg526hFD"
   },
   "source": [
    "Temos então 5 elementos com índices variando de 0 a 4, ordenadamente:\n",
    "\n",
    "```\n",
    "#             [0]           [1]   [2]   [3]    [4]\n",
    "lista = ['Fabricio Daniel', 9.5 , 9.0 , 8.0 , True]\n",
    "```\n",
    "\n",
    "Em Python temos também os índices **negativos** que se iniciam no último elemento com o valor de `-1` e depois avancam no universo dos negativos até chegar no 1° elemeno:\n",
    "\n",
    "```\n",
    "#             [-5]         [-4]  [-3]  [-2]   [-1]\n",
    "lista = ['Fabricio Daniel', 9.5 , 9.0 , 8.0 , True]\n",
    "```\n",
    "\n",
    "Conseguimos selecionar separadamente cada elemento através de seus respectivos índices. Colocando o nome da lista e em seguida o índice a ser selecionado."
   ]
  },
  {
   "cell_type": "markdown",
   "metadata": {
    "id": "6TaE1ijmBTCd"
   },
   "source": [
    "Uma forma mais dinâmica de trabalhar item por item de uma lista é utilizando um laço for para leitura elemento a elemento."
   ]
  },
  {
   "cell_type": "markdown",
   "metadata": {
    "id": "d-iYr10-y4qw"
   },
   "source": [
    "## Manipulação de listas\n",
    "\n",
    "As listas são muito úteis em Python porque permitem armazenar e acessar uma coleção de itens de maneira organizada e rápida. Elas também oferecem muitos métodos úteis para manipular os itens armazenados, como adicionar, remover, classificar e pesquisar elementos."
   ]
  },
  {
   "cell_type": "markdown",
   "metadata": {
    "id": "ZLqx9A97XVB_"
   },
   "source": [
    "#### Quantidade de elementos\n",
    "\n",
    "Usamos a função [`len()`](https://docs.python.org/3/library/functions.html#len) para descobrimos a quantidade de elementos de um conjunto."
   ]
  },
  {
   "cell_type": "markdown",
   "metadata": {
    "id": "Z5tpstlHJss3"
   },
   "source": [
    "#### Partição\n",
    "\n",
    "A partição de listas por indexação em Python é uma técnica muito útil para selecionar um subconjunto de elementos de uma lista. Ela é feita usando a sintaxe `lista[inicio:fim]`, onde `inicio` é o índice do primeiro elemento a ser incluído na partição e `fim` é o índice do primeiro elemento a ser excluído da partição. "
   ]
  },
  {
   "cell_type": "markdown",
   "metadata": {
    "id": "O0RRyabkRzZC"
   },
   "source": [
    "#### [`append()`](https://docs.python.org/3/tutorial/datastructures.html#:~:text=of%20list%20objects%3A-,list.append(x),-Add%20an%20item)\n",
    "\n",
    "Adiciona um elemento ao final da lista."
   ]
  },
  {
   "cell_type": "markdown",
   "metadata": {
    "id": "uQV91XMsUOJD"
   },
   "source": [
    "#### [`extend()`](https://docs.python.org/3/tutorial/datastructures.html#:~:text=list.extend(iterable))\n",
    "\n",
    "Adiciona vários elementos ao final da lista.\n",
    "\n"
   ]
  },
  {
   "cell_type": "markdown",
   "metadata": {
    "id": "dPGM5gpyUX1z"
   },
   "source": [
    "#### [`remove()`](https://docs.python.org/3/tutorial/datastructures.html#:~:text=append(x).-,list.remove(x),-Remove%20the%20first)\n",
    "\n",
    "Remove um elemento específico da lista."
   ]
  },
  {
   "cell_type": "markdown",
   "metadata": {
    "id": "Rc22Vc08YDZ2"
   },
   "source": [
    "## Dicionário"
   ]
  },
  {
   "cell_type": "markdown",
   "metadata": {
    "id": "PJ-cCKPjeWxL"
   },
   "source": [
    "Os dicionários são um tipo de estrutura de dados que armazenam pares de *chave-valor*. Eles são delimitados por chaves `{}` e os pares *chave-valor* são separados por vírgulas.\n",
    "\n",
    "```\n",
    "dicionário = {chave: valor}\n",
    "```\n",
    "\n",
    "A **chave** é um elemento único que identifica um valor no dicionário, enquanto o **valor** é o item que é armazenado para a chave. As chaves e os valores podem ser de **qualquer tipo de dado**.\n",
    "\n",
    "Os dicionários são úteis para armazenar e acessar dados de maneira organizada e rápida. Eles são um tipo de conjunto de elementos em Python, pois armazenam uma coleção de itens."
   ]
  },
  {
   "cell_type": "markdown",
   "metadata": {
    "id": "LJ3o_inroxg_"
   },
   "source": [
    "## Aprofundando em dicionários"
   ]
  },
  {
   "cell_type": "markdown",
   "metadata": {
    "id": "2N3GLlkSpBiu"
   },
   "source": [
    "#### [`pop()`](https://python-reference.readthedocs.io/en/latest/docs/dict/pop.html)\n",
    "Remove um item de um dicionário e o retorna."
   ]
  },
  {
   "cell_type": "markdown",
   "metadata": {
    "id": "sYZGvJJYrW_y"
   },
   "source": [
    "#### [`items()`](https://python-reference.readthedocs.io/en/latest/docs/dict/items.html)\n",
    "Retorna uma lista de pares chave-valor do dicionário."
   ]
  },
  {
   "cell_type": "markdown",
   "metadata": {
    "id": "Lb0utNFGrZBY"
   },
   "source": [
    "#### [`keys()`](https://python-reference.readthedocs.io/en/latest/docs/dict/keys.html)\n",
    "Retorna uma lista das chaves do dicionário."
   ]
  },
  {
   "cell_type": "markdown",
   "metadata": {
    "id": "qKyu3bf9rbtX"
   },
   "source": [
    "#### [`values()`](https://python-reference.readthedocs.io/en/latest/docs/dict/values.html)\n",
    "Retorna uma lista dos valores do dicionário."
   ]
  },
  {
   "cell_type": "markdown",
   "metadata": {},
   "source": [
    "#    Exercícios finais"
   ]
  },
  {
   "cell_type": "code",
   "execution_count": 3,
   "metadata": {},
   "outputs": [
    {
     "name": "stdout",
     "output_type": "stream",
     "text": [
      "31442.22\n"
     ]
    },
    {
     "data": {
      "text/plain": [
       "3144.222"
      ]
     },
     "execution_count": 3,
     "metadata": {},
     "output_type": "execute_result"
    }
   ],
   "source": [
    "#1) Faça um programa que tenha a seguinte lista contendo os valores de gastos de uma empresa de papel [2172.54, 3701.35, 3518.09, 3456.61, 3249.38, 2840.82, 3891.45, 3075.26, 2317.64, 3219.08]. Com esses valores, faça um programa que calcule a média de gastos. Dica: use as funções built-in sum() e len().\n",
    "\n",
    "gastos = [2172.54, 3701.35, 3518.09, 3456.61, 3249.38, 2840.82, 3891.45, 3075.26, 2317.64, 3219.08]\n",
    "\n",
    "media_gastos = sum(gastos)/len(gastos)\n",
    "\n",
    "media_gastos\n"
   ]
  },
  {
   "cell_type": "code",
   "execution_count": 8,
   "metadata": {},
   "outputs": [
    {
     "name": "stdout",
     "output_type": "stream",
     "text": [
      "A porcentagem das compras acima de 3000 reais é de 70.0%\n"
     ]
    }
   ],
   "source": [
    "#2) Com os mesmos dados da questão anterior, defina quantas compras foram realizadas acima de 3000 reais e calcule a porcentagem quanto ao total de compras.\n",
    "\n",
    "gastos = [2172.54, 3701.35, 3518.09, 3456.61, 3249.38, 2840.82, 3891.45, 3075.26, 2317.64, 3219.08]\n",
    "contador = 0\n",
    "\n",
    "for compras in gastos:\n",
    "    if compras > 3000:\n",
    "        contador += 1\n",
    "\n",
    "print(f'A porcentagem das compras acima de 3000 reais é de {(contador/len(gastos))*100}%')\n"
   ]
  },
  {
   "cell_type": "code",
   "execution_count": 11,
   "metadata": {},
   "outputs": [
    {
     "data": {
      "text/plain": [
       "['1', '2', '3', '4', '5']"
      ]
     },
     "execution_count": 11,
     "metadata": {},
     "output_type": "execute_result"
    }
   ],
   "source": [
    "#3) Faça um código que colete em uma lista 5 números inteiros quaisquer e imprima a lista. Exemplo: [1,4,7,2,4].\n",
    "list_int = []\n",
    "\n",
    "for i in range(5):\n",
    "    num = input()\n",
    "    list_int.append(num)\n",
    "list_int"
   ]
  },
  {
   "cell_type": "code",
   "execution_count": null,
   "metadata": {},
   "outputs": [],
   "source": [
    "#4) Colete novamente 5 inteiros e imprima a lista em ordem inversa à enviada.\n",
    "list_int = []\n",
    "\n",
    "for i in range(5):\n",
    "    num = input()\n",
    "    list_int.append(num)\n",
    "list_int.sort(reverse=True)\n",
    "list_int\n"
   ]
  },
  {
   "cell_type": "code",
   "execution_count": 36,
   "metadata": {},
   "outputs": [
    {
     "data": {
      "text/plain": [
       "[2, 3, 5, 7, 11, 13, 17, 19]"
      ]
     },
     "execution_count": 36,
     "metadata": {},
     "output_type": "execute_result"
    }
   ],
   "source": [
    "#5) Faça um programa que, ao inserir um número qualquer, cria uma lista contendo todos os números primos entre 1 e o número digitado.\n",
    "list_primos = []\n",
    "\n",
    "num = int(input('Digite um número qualquer:'))\n",
    "\n",
    "\n",
    "for i in range(1,num+1):\n",
    "    count_divisors = 0\n",
    "    for j in range(1, i+1):\n",
    "        if i%j==0:\n",
    "            count_divisors += 1\n",
    "    if count_divisors == 2:\n",
    "        list_primos.append(i)\n",
    "list_primos\n",
    "        "
   ]
  },
  {
   "cell_type": "code",
   "execution_count": 50,
   "metadata": {},
   "outputs": [
    {
     "name": "stdout",
     "output_type": "stream",
     "text": [
      "A area com maior diversidade é a \"Área Centro\" com uma média de 67706 espécies\n"
     ]
    }
   ],
   "source": [
    "#14) Uma equipe de cientistas de dados está estudando a diversidade biológica em uma floresta. A equipe fez a coleta de informações sobre o número de espécies de plantas e animais em cada área dessa floresta e armazenou essas informações em um dicionário. Nele, a chave descreve a área dos dados e os valores nas listas correspondem às espécies de plantas e animais nas áreas, respectivamente.\n",
    "\n",
    "especies = {'Área Norte': [2819, 7236],\n",
    " 'Área Leste': [1440, 9492],\n",
    " 'Área Sul': [5969, 7496],\n",
    " 'Área Oeste': [14446, 49688],\n",
    " 'Área Centro': [22558, 45148]}\n",
    "\n",
    "#Escreva um código para calcular a média de espécies por área e identificar a área com a maior diversidade biológica. Dica: use as funções built-in sum() e len().\n",
    "\n",
    "media_especies = {}\n",
    "\n",
    "for i in especies.keys():\n",
    "    media_sum = {i: sum(especies[i], 0)}\n",
    "    media_especies.update(media_sum)\n",
    "\n",
    "maior_diversidade = max(media_especies, key=media_especies.get)\n",
    "maior_diversidade\n",
    "\n",
    "#print(media_especies)\n",
    "\n",
    "print(f'A area com maior diversidade é a \"{maior_diversidade}\" com uma média de {media_especies[maior_diversidade]} espécies')\n"
   ]
  },
  {
   "cell_type": "code",
   "execution_count": null,
   "metadata": {},
   "outputs": [
    {
     "name": "stdout",
     "output_type": "stream",
     "text": [
      "Media de idade do setor Setor A: 39\n",
      "Media de idade do setor Setor B: 42\n",
      "Media de idade do setor Setor C: 35\n",
      "Media de idade do setor Setor D: 36\n",
      "A idade média entres todos os setores é 38.625\n",
      "Há 18 pessoas acima da idade média geral\n"
     ]
    }
   ],
   "source": [
    "#15) O setor de RH da sua empresa te pediu uma ajuda para analisar as idades de colaboradores(as) de 4 setores da empresa. Para isso, foram fornecidos os seguintes dados:\n",
    "\n",
    "idade_colaboradores = {'Setor A': [22, 26, 30, 30, 35, 38, 40, 56, 57, 65],\n",
    " 'Setor B': [22, 24, 26, 33, 41, 49, 50, 54, 60, 64],\n",
    " 'Setor C': [23, 26, 26, 29, 34, 35, 36, 41, 52, 56],\n",
    " 'Setor D': [19, 20, 25, 27, 34, 39, 42, 44, 50, 65]}\n",
    "\n",
    "#Sabendo que cada setor tem 10 colaboradores(as), construa um código que calcule a média de idade de cada setor, a idade média geral entre todos os setores e quantas pessoas estão acima da idade média geral.\n",
    "\n",
    "dados_setor = {}\n",
    "soma_geral = 0\n",
    "count = 0\n",
    "\n",
    "\n",
    "\n",
    "for i in idade_colaboradores.keys():\n",
    "    soma_setor = {i:sum(idade_colaboradores[i])}\n",
    "    media_idade = int(soma_setor[i]/10)\n",
    "    soma_geral += int(soma_setor[i]) \n",
    "    \n",
    "    print(f'Media de idade do setor {i}: {media_idade}')\n",
    "    \n",
    "    dados_setor.update({i:{'media_idade':media_idade}})\n",
    "\n",
    "\n",
    "total_colaboradores = sum(len(idades) for idades in idade_colaboradores.values())\n",
    "media_geral = soma_geral/total_colaboradores\n",
    "\n",
    "print(f'A idade média entres todos os setores é {media_geral}')\n",
    "\n",
    "for idades in idade_colaboradores.values():\n",
    "    for idade in idades:\n",
    "        if idade > int(media_geral):\n",
    "            count += 1\n",
    "\n",
    "print(f'Há {count} pessoas acima da idade média geral')"
   ]
  },
  {
   "cell_type": "code",
   "execution_count": null,
   "metadata": {},
   "outputs": [
    {
     "name": "stdout",
     "output_type": "stream",
     "text": [
      "Média de idade por setor:\n",
      "Setor A: 39.90\n",
      "Setor B: 42.30\n",
      "Setor C: 35.80\n",
      "Setor D: 36.50\n",
      "\n",
      "Idade média geral: 38.62\n",
      "Número de pessoas acima da idade média geral: 18\n"
     ]
    }
   ],
   "source": [
    "#15 otimizado\n",
    "idade_colaboradores = {'Setor A': [22, 26, 30, 30, 35, 38, 40, 56, 57, 65],\n",
    " 'Setor B': [22, 24, 26, 33, 41, 49, 50, 54, 60, 64],\n",
    " 'Setor C': [23, 26, 26, 29, 34, 35, 36, 41, 52, 56],\n",
    " 'Setor D': [19, 20, 25, 27, 34, 39, 42, 44, 50, 65]}\n",
    "\n",
    "dados_setor = {}\n",
    "\n",
    "dados_setor = {setor: sum(idades) / len(idades) for setor, idades in idade_colaboradores.items()}\n",
    "\n",
    "total_idade = sum(idade for idades in idade_colaboradores.values() for idade in idades)\n",
    "total_colaboradores = sum(len(idades) for idades in idade_colaboradores.values())\n",
    "media_geral = total_idade / total_colaboradores\n",
    "\n",
    "count = sum(1 for idades in idade_colaboradores.values() for idade in idades if idade > media_geral)\n",
    "\n",
    "print(\"Média de idade por setor:\")\n",
    "for setor, media in dados_setor.items():\n",
    "    print(f\"{setor}: {media:.2f}\")\n",
    "\n",
    "print(f\"\\nIdade média geral: {media_geral:.2f}\")\n",
    "print(f\"Número de pessoas acima da idade média geral: {count}\")\n",
    "\n"
   ]
  }
 ],
 "metadata": {
  "colab": {
   "provenance": []
  },
  "kernelspec": {
   "display_name": "Python 3",
   "name": "python3"
  },
  "language_info": {
   "codemirror_mode": {
    "name": "ipython",
    "version": 3
   },
   "file_extension": ".py",
   "mimetype": "text/x-python",
   "name": "python",
   "nbconvert_exporter": "python",
   "pygments_lexer": "ipython3",
   "version": "3.8.10"
  }
 },
 "nbformat": 4,
 "nbformat_minor": 0
}
